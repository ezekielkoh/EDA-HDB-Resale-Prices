{
 "cells": [
  {
   "cell_type": "code",
   "execution_count": 1,
   "metadata": {},
   "outputs": [],
   "source": [
    "# import libraries\n",
    "\n",
    "import pandas as pd\n",
    "import numpy as np\n",
    "import requests"
   ]
  },
  {
   "cell_type": "code",
   "execution_count": 2,
   "metadata": {},
   "outputs": [
    {
     "data": {
      "text/plain": [
       "\"\\nDeprecated due to API limit\\n\\n# pull hdb resale transactions from data.gov.sg\\nurl = 'https://data.gov.sg/api/action/datastore_search?resource_id=f1765b54-a209-4718-8d38-a39237f502b3'\\nresponse = requests.get(url)\\ndata = response.json()\\n\\n# set search limit to 10,000 records. API shows error when set at 15,000+ records\\nsearch_params = {'limit': 10000}\\n\\n# get total number of records from website\\n\\nresponse = requests.get(url, params=search_params)\\ndata = response.json()\\n\\n# convert data to dataframe\\ndf = pd.DataFrame(data['result']['records'])\\n\\n\""
      ]
     },
     "execution_count": 2,
     "metadata": {},
     "output_type": "execute_result"
    }
   ],
   "source": [
    "\"\"\"\n",
    "Deprecated due to API limit\n",
    "\n",
    "# pull hdb resale transactions from data.gov.sg\n",
    "url = 'https://data.gov.sg/api/action/datastore_search?resource_id=f1765b54-a209-4718-8d38-a39237f502b3'\n",
    "response = requests.get(url)\n",
    "data = response.json()\n",
    "\n",
    "# set search limit to 10,000 records. API shows error when set at 15,000+ records\n",
    "search_params = {'limit': 10000}\n",
    "\n",
    "# get total number of records from website\n",
    "\n",
    "response = requests.get(url, params=search_params)\n",
    "data = response.json()\n",
    "\n",
    "# convert data to dataframe\n",
    "df = pd.DataFrame(data['result']['records'])\n",
    "\n",
    "\"\"\""
   ]
  },
  {
   "cell_type": "code",
   "execution_count": 3,
   "metadata": {},
   "outputs": [],
   "source": [
    "df = pd.read_csv('data/resale-flat-prices-based-on-registration-date-from-jan-2017-onwards.csv')"
   ]
  },
  {
   "cell_type": "code",
   "execution_count": 5,
   "metadata": {},
   "outputs": [
    {
     "name": "stdout",
     "output_type": "stream",
     "text": [
      "<class 'pandas.core.frame.DataFrame'>\n",
      "RangeIndex: 158404 entries, 0 to 158403\n",
      "Data columns (total 11 columns):\n",
      " #   Column               Non-Null Count   Dtype  \n",
      "---  ------               --------------   -----  \n",
      " 0   month                158404 non-null  object \n",
      " 1   town                 158404 non-null  object \n",
      " 2   flat_type            158404 non-null  object \n",
      " 3   block                158404 non-null  object \n",
      " 4   street_name          158404 non-null  object \n",
      " 5   storey_range         158404 non-null  object \n",
      " 6   floor_area_sqm       158404 non-null  float64\n",
      " 7   flat_model           158404 non-null  object \n",
      " 8   lease_commence_date  158404 non-null  int64  \n",
      " 9   remaining_lease      158404 non-null  object \n",
      " 10  resale_price         158404 non-null  float64\n",
      "dtypes: float64(2), int64(1), object(8)\n",
      "memory usage: 13.3+ MB\n"
     ]
    }
   ],
   "source": [
    "df.info()"
   ]
  },
  {
   "cell_type": "code",
   "execution_count": 6,
   "metadata": {},
   "outputs": [
    {
     "data": {
      "text/html": [
       "<div>\n",
       "<style scoped>\n",
       "    .dataframe tbody tr th:only-of-type {\n",
       "        vertical-align: middle;\n",
       "    }\n",
       "\n",
       "    .dataframe tbody tr th {\n",
       "        vertical-align: top;\n",
       "    }\n",
       "\n",
       "    .dataframe thead th {\n",
       "        text-align: right;\n",
       "    }\n",
       "</style>\n",
       "<table border=\"1\" class=\"dataframe\">\n",
       "  <thead>\n",
       "    <tr style=\"text-align: right;\">\n",
       "      <th></th>\n",
       "      <th>month</th>\n",
       "      <th>town</th>\n",
       "      <th>flat_type</th>\n",
       "      <th>block</th>\n",
       "      <th>street_name</th>\n",
       "      <th>storey_range</th>\n",
       "      <th>floor_area_sqm</th>\n",
       "      <th>flat_model</th>\n",
       "      <th>lease_commence_date</th>\n",
       "      <th>remaining_lease</th>\n",
       "      <th>resale_price</th>\n",
       "    </tr>\n",
       "  </thead>\n",
       "  <tbody>\n",
       "    <tr>\n",
       "      <th>0</th>\n",
       "      <td>2017-01</td>\n",
       "      <td>ANG MO KIO</td>\n",
       "      <td>2 ROOM</td>\n",
       "      <td>406</td>\n",
       "      <td>ANG MO KIO AVE 10</td>\n",
       "      <td>10 TO 12</td>\n",
       "      <td>44.0</td>\n",
       "      <td>Improved</td>\n",
       "      <td>1979</td>\n",
       "      <td>61 years 04 months</td>\n",
       "      <td>232000.0</td>\n",
       "    </tr>\n",
       "    <tr>\n",
       "      <th>1</th>\n",
       "      <td>2017-01</td>\n",
       "      <td>ANG MO KIO</td>\n",
       "      <td>3 ROOM</td>\n",
       "      <td>108</td>\n",
       "      <td>ANG MO KIO AVE 4</td>\n",
       "      <td>01 TO 03</td>\n",
       "      <td>67.0</td>\n",
       "      <td>New Generation</td>\n",
       "      <td>1978</td>\n",
       "      <td>60 years 07 months</td>\n",
       "      <td>250000.0</td>\n",
       "    </tr>\n",
       "    <tr>\n",
       "      <th>2</th>\n",
       "      <td>2017-01</td>\n",
       "      <td>ANG MO KIO</td>\n",
       "      <td>3 ROOM</td>\n",
       "      <td>602</td>\n",
       "      <td>ANG MO KIO AVE 5</td>\n",
       "      <td>01 TO 03</td>\n",
       "      <td>67.0</td>\n",
       "      <td>New Generation</td>\n",
       "      <td>1980</td>\n",
       "      <td>62 years 05 months</td>\n",
       "      <td>262000.0</td>\n",
       "    </tr>\n",
       "    <tr>\n",
       "      <th>3</th>\n",
       "      <td>2017-01</td>\n",
       "      <td>ANG MO KIO</td>\n",
       "      <td>3 ROOM</td>\n",
       "      <td>465</td>\n",
       "      <td>ANG MO KIO AVE 10</td>\n",
       "      <td>04 TO 06</td>\n",
       "      <td>68.0</td>\n",
       "      <td>New Generation</td>\n",
       "      <td>1980</td>\n",
       "      <td>62 years 01 month</td>\n",
       "      <td>265000.0</td>\n",
       "    </tr>\n",
       "    <tr>\n",
       "      <th>4</th>\n",
       "      <td>2017-01</td>\n",
       "      <td>ANG MO KIO</td>\n",
       "      <td>3 ROOM</td>\n",
       "      <td>601</td>\n",
       "      <td>ANG MO KIO AVE 5</td>\n",
       "      <td>01 TO 03</td>\n",
       "      <td>67.0</td>\n",
       "      <td>New Generation</td>\n",
       "      <td>1980</td>\n",
       "      <td>62 years 05 months</td>\n",
       "      <td>265000.0</td>\n",
       "    </tr>\n",
       "  </tbody>\n",
       "</table>\n",
       "</div>"
      ],
      "text/plain": [
       "     month        town flat_type block        street_name storey_range  \\\n",
       "0  2017-01  ANG MO KIO    2 ROOM   406  ANG MO KIO AVE 10     10 TO 12   \n",
       "1  2017-01  ANG MO KIO    3 ROOM   108   ANG MO KIO AVE 4     01 TO 03   \n",
       "2  2017-01  ANG MO KIO    3 ROOM   602   ANG MO KIO AVE 5     01 TO 03   \n",
       "3  2017-01  ANG MO KIO    3 ROOM   465  ANG MO KIO AVE 10     04 TO 06   \n",
       "4  2017-01  ANG MO KIO    3 ROOM   601   ANG MO KIO AVE 5     01 TO 03   \n",
       "\n",
       "   floor_area_sqm      flat_model  lease_commence_date     remaining_lease  \\\n",
       "0            44.0        Improved                 1979  61 years 04 months   \n",
       "1            67.0  New Generation                 1978  60 years 07 months   \n",
       "2            67.0  New Generation                 1980  62 years 05 months   \n",
       "3            68.0  New Generation                 1980   62 years 01 month   \n",
       "4            67.0  New Generation                 1980  62 years 05 months   \n",
       "\n",
       "   resale_price  \n",
       "0      232000.0  \n",
       "1      250000.0  \n",
       "2      262000.0  \n",
       "3      265000.0  \n",
       "4      265000.0  "
      ]
     },
     "execution_count": 6,
     "metadata": {},
     "output_type": "execute_result"
    }
   ],
   "source": [
    "df.head()"
   ]
  },
  {
   "cell_type": "code",
   "execution_count": 7,
   "metadata": {},
   "outputs": [],
   "source": [
    "## convert resale_price to integer\n",
    "df['resale_price'] = df['resale_price'].astype('float')"
   ]
  },
  {
   "cell_type": "code",
   "execution_count": 8,
   "metadata": {},
   "outputs": [
    {
     "data": {
      "text/plain": [
       "array(['ANG MO KIO', 'BEDOK', 'BISHAN', 'BUKIT BATOK', 'BUKIT MERAH',\n",
       "       'BUKIT PANJANG', 'BUKIT TIMAH', 'CENTRAL AREA', 'CHOA CHU KANG',\n",
       "       'CLEMENTI', 'GEYLANG', 'HOUGANG', 'JURONG EAST', 'JURONG WEST',\n",
       "       'KALLANG/WHAMPOA', 'MARINE PARADE', 'PASIR RIS', 'PUNGGOL',\n",
       "       'QUEENSTOWN', 'SEMBAWANG', 'SENGKANG', 'SERANGOON', 'TAMPINES',\n",
       "       'TOA PAYOH', 'WOODLANDS', 'YISHUN'], dtype=object)"
      ]
     },
     "execution_count": 8,
     "metadata": {},
     "output_type": "execute_result"
    }
   ],
   "source": [
    "df['town'].unique()"
   ]
  },
  {
   "cell_type": "code",
   "execution_count": 9,
   "metadata": {},
   "outputs": [],
   "source": [
    "\"\"\" \n",
    "Classify Ang Mo Kio, Bedok, Bishan, Bukit Merah, Bukit Timah, Central, Clementi, Geylang, Kallang/Whampoa, Marine Parade, Pasir Ris, Queenstown, Serangoon, Tampines, Toa Payoh as Mature Estates\n",
    "\n",
    "Classify Bukit Batok, Bukit Panjang, Choa Chu Kang, Hougang, Jurong, Punggol, Sembawang, Sengkang, Tengah, Woodlands, Yishun to be classified as Non-Matured Estates\n",
    "\"\"\"\n",
    "\n",
    "mature_estates = ['ANG MO KIO', 'BEDOK', 'BISHAN', 'BUKIT MERAH', 'BUKIT TIMAH', 'CENTRAL AREA', 'CLEMENTI', 'GEYLANG', 'KALLANG/WHAMPOA', 'MARINE PARADE', 'PASIR RIS', 'QUEENSTOWN', 'SERANGOON', 'TAMPINES', 'TOA PAYOH']\n",
    "non_mature_estates = ['BUKIT BATOK', 'BUKIT PANJANG', 'CHOA CHU KANG', 'HOUGANG', 'JURONG', 'PUNGGOL', 'SEMBAWANG', 'SENGKANG', 'TENGAH', 'WOODLANDS', 'YISHUN']\n",
    "\n",
    "# create new column to classify mature and non-mature estates\n",
    "df['Estate Type'] = np.where(df['town'].isin(mature_estates), 'Matured Estate', 'Non-Matured Estate')"
   ]
  },
  {
   "cell_type": "code",
   "execution_count": 10,
   "metadata": {},
   "outputs": [],
   "source": [
    "# convert month column to datetime\n",
    "df['sale_period'] = pd.to_datetime(df['month'])\n",
    "\n",
    "# split remaining_lease into months\n",
    "df['remaining_lease_months'] = df['remaining_lease'].apply(lambda x: int(x.split(' ')[0])*12 + int(x.split(' ')[2]) if len(x.split(' ')) > 2 else int(x.split(' ')[0])*12)"
   ]
  },
  {
   "cell_type": "code",
   "execution_count": 11,
   "metadata": {},
   "outputs": [],
   "source": [
    "# # reshuffle columns\n",
    "df = df[['town',\n",
    "         'Estate Type',\n",
    "         'flat_type', \n",
    "         'flat_model', \n",
    "         'floor_area_sqm',\n",
    "         'block',\n",
    "         'street_name',\n",
    "         'resale_price',\n",
    "         'sale_period',\n",
    "         'remaining_lease_months',\n",
    "         'storey_range']]"
   ]
  },
  {
   "cell_type": "code",
   "execution_count": 12,
   "metadata": {},
   "outputs": [],
   "source": [
    "# filter year column from 2017 onwards\n",
    "df_filtered = df[df['sale_period'].dt.year >= 2017]\n"
   ]
  },
  {
   "cell_type": "code",
   "execution_count": 13,
   "metadata": {},
   "outputs": [],
   "source": [
    "import matplotlib.pyplot as plt\n",
    "import seaborn as sns"
   ]
  },
  {
   "cell_type": "code",
   "execution_count": 14,
   "metadata": {},
   "outputs": [
    {
     "data": {
      "application/vnd.jupyter.widget-view+json": {
       "model_id": "2e715389da004234ad2c281a7d7609a9",
       "version_major": 2,
       "version_minor": 0
      },
      "text/plain": [
       "Box(children=(HTML(value='<div id=\"ifr-pyg-1\" style=\"height: auto\">\\n    <head>\\n        <meta http-equiv=\"Con…"
      ]
     },
     "metadata": {},
     "output_type": "display_data"
    },
    {
     "data": {
      "text/html": [],
      "text/plain": [
       "<IPython.core.display.HTML object>"
      ]
     },
     "metadata": {},
     "output_type": "display_data"
    }
   ],
   "source": [
    "import pygwalker as pyg \n",
    "\n",
    "walk = pyg.walk(df_filtered) "
   ]
  },
  {
   "cell_type": "code",
   "execution_count": null,
   "metadata": {},
   "outputs": [],
   "source": [
    "# create 2 subplots\n",
    "fig, (ax1, ax2) = plt.subplots(1, 2, figsize=(16,5))\n",
    "\n",
    "# create seaborn lineplot in ax1\n",
    "sns.lineplot(\n",
    "    x='sale_period', \n",
    "    y='resale_price', \n",
    "    data=df_filtered,\n",
    "    ax=ax1)\n",
    "ax1.set_title('HDB Resale Price Trend')\n",
    "ax1.set_ylabel('Resale Price')\n",
    "ax1.set_xlabel('Sale Period')\n",
    "\n",
    "# create seaborn lineplot in ax2\n",
    "sns.lineplot(\n",
    "    x='sale_period', \n",
    "    y='resale_price', \n",
    "    data=df_filtered,\n",
    "    hue='Estate Type', \n",
    "    ax=ax2)\n",
    "ax2.set_title('HDB Resale Price By Estate Type')\n",
    "ax2.set_ylabel('Resale Price')\n",
    "ax2.set_xlabel('Sale Period')\n",
    "\n",
    "# display plots\n",
    "plt.show()"
   ]
  },
  {
   "cell_type": "code",
   "execution_count": null,
   "metadata": {},
   "outputs": [],
   "source": [
    "plt.subplots(figsize=(12,5))\n",
    "sns.lineplot(x='sale_period', y='resale_price', data=df_filtered, hue='Estate Type')\n",
    "plt.show()"
   ]
  },
  {
   "cell_type": "code",
   "execution_count": null,
   "metadata": {},
   "outputs": [],
   "source": [
    "num_towns = len(df['town'].unique())\n",
    "print(num_towns)"
   ]
  },
  {
   "cell_type": "code",
   "execution_count": null,
   "metadata": {},
   "outputs": [],
   "source": [
    "fig, ((ax1, ax2), (ax3, ax4), (ax5, ax6), (ax7, ax8)) = plt.subplots(4,2,figsize=(12,10))\n",
    "\n",
    "df_filtered = df_filtered[(df_filtered['flat_type'] != '1 ROOM') & (df_filtered['flat_type'] != 'EXECUTIVE')]\n",
    "\n",
    "# Plot 1: Count of units by floor area\n",
    "sns.histplot(data = df_filtered, \n",
    "             x = 'floor_area_sqm',\n",
    "             ax = ax1,\n",
    "             bins = 40,\n",
    "             hue = 'flat_type',)\n",
    "\n",
    "ax1.set_title('Count of units by floor area')\n",
    "\n",
    "# Plot 2: Count of units by remaining lease\n",
    "sns.histplot(data = df_filtered,\n",
    "             x = 'remaining_lease_months',\n",
    "             ax = ax2,\n",
    "             bins = 40)\n",
    "ax2.set_title('Count of units by remaining lease')\n",
    "ax2.set_xticks(np.arange(480, 960, 120))\n",
    "ax2.set_xticklabels(np.arange(480, 960, 120))\n",
    "\n",
    "# Plot 3: Box plot of 2 ROOM Flats by floor area\n",
    "sns.boxplot(data = df_filtered[df_filtered['flat_type'] == '2 ROOM'],\n",
    "            y = 'floor_area_sqm',\n",
    "            ax = ax3)\n",
    "ax3.set_title('Box plot of 2 ROOM Flats by floor area')\n",
    "\n",
    "# Plot 4: Box plot of 3 ROOM Flats by floor area\n",
    "sns.boxplot(data = df_filtered[df_filtered['flat_type'] == '3 ROOM'],\n",
    "            y = 'floor_area_sqm',\n",
    "            ax = ax4)\n",
    "ax4.set_title('Box plot of 3 ROOM Flats by floor area')\n",
    "\n",
    "# Plot 5: Box plot of 4 ROOM Flats by floor area\n",
    "sns.boxplot(data = df_filtered[df_filtered['flat_type'] == '4 ROOM'],\n",
    "            y = 'floor_area_sqm',\n",
    "            ax = ax5)\n",
    "ax5.set_title('Box plot of 4 ROOM Flats by floor area')\n",
    "\n",
    "# Plot 6: Box plot of 5 ROOM Flats by floor area\n",
    "sns.boxplot(data = df_filtered[df_filtered['flat_type'] == '5 ROOM'],\n",
    "            y = 'floor_area_sqm',\n",
    "            ax = ax6)\n",
    "ax6.set_title('Box plot of 5 ROOM Flats by floor area')\n",
    "\n",
    "# Plot 7: Box plot of MULTI-GENERATION Flats by floor area\n",
    "sns.boxplot(data = df_filtered[df_filtered['flat_type'] == 'MULTI-GENERATION'],\n",
    "            y = 'floor_area_sqm',\n",
    "            ax = ax7)\n",
    "ax7.set_title('Box plot of MULTI-GENERATION Flats by floor area')\n",
    "\n",
    "plt.tight_layout()\n",
    "plt.show()"
   ]
  },
  {
   "cell_type": "code",
   "execution_count": null,
   "metadata": {},
   "outputs": [],
   "source": [
    "print(f\"Potential Count of Outliers: {len(df_filtered[(df_filtered['flat_type'] == '2 ROOM') & (df_filtered['floor_area_sqm'] > 50)])}\")\n",
    "print(f\"Count of 2 ROOM Flats: {len(df_filtered[df_filtered['flat_type'] == '2 ROOM'])}\")"
   ]
  },
  {
   "cell_type": "code",
   "execution_count": null,
   "metadata": {},
   "outputs": [],
   "source": [
    "# resale price vs remaining lease months\n",
    "# create scatter plot\n",
    "plt.subplots(figsize=(16, 6))\n",
    "plt.scatter(x=df_filtered['remaining_lease_months'], y=df_filtered['resale_price'], alpha=0.5)\n",
    "plt.xlabel('Remaining Lease (Months)')\n",
    "plt.ylabel('Resale Price')\n",
    "\n",
    "# create linear regression line\n",
    "x = df_filtered['remaining_lease_months']\n",
    "y = df_filtered['resale_price']\n",
    "m, b = np.polyfit(x,y,1)\n",
    "plt.plot(x, m*x + b, color='red')\n",
    "\n",
    "# calculate correlation coefficient\n",
    "corr = df_filtered['remaining_lease_months'].corr(df['resale_price'])\n",
    "print('Correlation coefficient: ', corr)\n",
    "\n"
   ]
  },
  {
   "cell_type": "code",
   "execution_count": null,
   "metadata": {},
   "outputs": [],
   "source": [
    "# resale price vs floor area split by estate type\n",
    "\n",
    "fig, (ax1, ax2) = plt.subplots(1, 2, figsize=(16, 6))\n",
    "\n",
    "# plot resale price vs floor area by mature estates\n",
    "sns.scatterplot(x='floor_area_sqm', \n",
    "                y='resale_price', \n",
    "                data=df_filtered[(df_filtered['Estate Type']=='Matured Estate') & (df_filtered['flat_type']!='1 ROOM')], \n",
    "                hue= 'flat_type', \n",
    "                ax=ax1,\n",
    "                palette='Set2')\n",
    "\n",
    "ax1.set_title('Matured Estate')\n",
    "ax1.set_xlabel('Floor Area (sqm)')\n",
    "ax1.set_ylabel('Resale Price (SGD)')\n",
    "\n",
    "# show full y value without truncation\n",
    "ax1.get_yaxis().get_major_formatter().set_scientific(False)\n",
    "\n",
    "x = df_filtered[df_filtered['Estate Type']=='Matured Estate']['floor_area_sqm']\n",
    "y = df_filtered[df_filtered['Estate Type']=='Matured Estate']['resale_price']\n",
    "m, b = np.polyfit(x, y, 1)\n",
    "ax1.plot(x, m*x + b, color='red')\n",
    "\n",
    "# plot resale price vs floor area by non-mature estates\n",
    "sns.scatterplot(x='floor_area_sqm', \n",
    "                y='resale_price', \n",
    "                data=df_filtered[df_filtered['Estate Type']=='Non-Matured Estate'], \n",
    "                hue= 'flat_type',\n",
    "                ax=ax2,\n",
    "                palette='Set2')\n",
    "\n",
    "ax2.set_title('Non-Matured Estate')\n",
    "ax2.set_xlabel('Floor Area (sqm)')\n",
    "ax2.set_ylabel('Resale Price (SGD)')\n",
    "ax2.get_yaxis().get_major_formatter().set_scientific(False)\n",
    "\n",
    "x = df_filtered[df_filtered['Estate Type']=='Non-Matured Estate']['floor_area_sqm']\n",
    "y = df_filtered[df_filtered['Estate Type']=='Non-Matured Estate']['resale_price']\n",
    "m, b = np.polyfit(x, y, 1)\n",
    "ax2.plot(x, m*x + b, color='red')\n",
    "\n",
    "plt.show()\n",
    "\n",
    "# identify correlation coefficient\n",
    "print('Correlation coefficient for matured estate: ', df_filtered[df_filtered['Estate Type']=='Matured Estate']['floor_area_sqm'].corr(df_filtered[df_filtered['Estate Type']=='Matured Estate']['resale_price']))\n",
    "print('Correlation coefficient for non-matured estate: ', df_filtered[df_filtered['Estate Type']=='Non-Matured Estate']['floor_area_sqm'].corr(df_filtered[df_filtered['Estate Type']=='Non-Matured Estate']['resale_price']))\n",
    "\n",
    "\n",
    "\n"
   ]
  },
  {
   "cell_type": "code",
   "execution_count": null,
   "metadata": {},
   "outputs": [],
   "source": [
    "fig, (ax1, ax2) = plt.subplots(1,2,figsize=(16, 10))\n",
    "\n",
    "# Plot 1: Count of resale flats in matured estates\n",
    "sns.countplot(y='town',\n",
    "              data = df_filtered[df_filtered['Estate Type'] == 'Matured Estate'],\n",
    "              order = df_filtered[df_filtered['Estate Type'] == 'Matured Estate']['town'].value_counts().index,\n",
    "              ax=ax1\n",
    "              )\n",
    "\n",
    "ax1.set_title('Resale Flat Count in Matured Estate')\n",
    "\n",
    "# Plot 2: Counter of resale flats in non-matured estates\n",
    "sns.countplot(y='town',\n",
    "              data = df_filtered[df_filtered['Estate Type'] == 'Non-Matured Estate'],\n",
    "              order = df_filtered[df_filtered['Estate Type'] == 'Non-Matured Estate']['town'].value_counts().index,\n",
    "              ax=ax2\n",
    "              )\n",
    "ax2.set_title('Resale Flat Count in Non-Matured Estate')\n",
    "\n",
    "plt.tight_layout()\n",
    "plt.show()"
   ]
  },
  {
   "cell_type": "code",
   "execution_count": null,
   "metadata": {},
   "outputs": [],
   "source": [
    "# add new column 'psf' to the dataframe\n",
    "# psf = price per square feet\n",
    "\n",
    "df_filtered['psf'] = df_filtered['resale_price'] / (df_filtered['floor_area_sqm'] * 10.764)"
   ]
  },
  {
   "cell_type": "code",
   "execution_count": null,
   "metadata": {},
   "outputs": [],
   "source": [
    "fig, ((ax1, ax2), (ax3, ax4)) = plt.subplots(2,2,figsize=(12,10))\n",
    "\n",
    "df_filtered = df_filtered[(df_filtered['flat_type'] != '1 ROOM') & (df_filtered['flat_type'] != 'EXECUTIVE')]\n",
    "\n",
    "# Plot 1: 2 ROOM Flat PSF by Remaining Lease Months\n",
    "\n",
    "sns.scatterplot(data = df_filtered[df_filtered['flat_type'] == '2 ROOM'],\n",
    "                x = 'remaining_lease_months',\n",
    "                y = 'psf',\n",
    "                ax = ax1)\n",
    "ax1.set_title('2 Room Flat Resale Price PSF by Remaining Lease Months')\n",
    "\n",
    "# Plot 2: 3 ROOM Flat PSF by Remaining Lease Months\n",
    "\n",
    "sns.scatterplot(data = df_filtered[df_filtered['flat_type'] == '3 ROOM'],\n",
    "                x = 'remaining_lease_months',\n",
    "                y = 'psf',\n",
    "                ax = ax2)\n",
    "ax2.set_title('3 Room Flat Resale Price PSF by Remaining Lease Months')\n",
    "\n",
    "# Plot 3: 4 ROOM Flat PSF by Remaining Lease Months\n",
    "\n",
    "sns.scatterplot(data = df_filtered[df_filtered['flat_type'] == '4 ROOM'],\n",
    "                x = 'remaining_lease_months',\n",
    "                y = 'psf',\n",
    "                ax = ax3)\n",
    "ax3.set_title('4 Room Flat Resale Price PSF by Remaining Lease Months')\n",
    "\n",
    "# Plot 5: 5 ROOM Flat PSF by Remaining Lease Months\n",
    "sns.scatterplot(data = df_filtered[df_filtered['flat_type'] == '5 ROOM'],\n",
    "                x = 'remaining_lease_months',\n",
    "                y = 'psf',\n",
    "                ax = ax4)\n",
    "ax4.set_title('5 Room Flat Resale Price PSF by Remaining Lease Months')\n",
    "\n",
    "plt.tight_layout()\n",
    "plt.show()"
   ]
  },
  {
   "attachments": {},
   "cell_type": "markdown",
   "metadata": {},
   "source": [
    "## Time Forecasting with Prophet"
   ]
  },
  {
   "cell_type": "code",
   "execution_count": null,
   "metadata": {},
   "outputs": [],
   "source": [
    "df_filtered.head()"
   ]
  },
  {
   "cell_type": "code",
   "execution_count": null,
   "metadata": {},
   "outputs": [],
   "source": [
    "agg_df = df_filtered.groupby(['town', 'flat_type', 'floor_area_sqm', 'sale_period'])['resale_price'].mean().reset_index().sort_values(by='resale_price')"
   ]
  },
  {
   "cell_type": "code",
   "execution_count": null,
   "metadata": {},
   "outputs": [],
   "source": [
    "agg_df.info()"
   ]
  },
  {
   "cell_type": "code",
   "execution_count": null,
   "metadata": {},
   "outputs": [],
   "source": [
    "def col_to_tuples(row,col):\n",
    "    return tuple(row[c] for c in col)\n",
    "\n",
    "agg_df['encoded_params'] = agg_df.apply(lambda x: col_to_tuples(x,['town','flat_type', 'floor_area_sqm', 'sale_period']), axis=1)"
   ]
  },
  {
   "cell_type": "code",
   "execution_count": null,
   "metadata": {},
   "outputs": [],
   "source": [
    "agg_df.head()"
   ]
  },
  {
   "cell_type": "code",
   "execution_count": null,
   "metadata": {},
   "outputs": [],
   "source": [
    "df_punggol = agg_df.copy()"
   ]
  },
  {
   "cell_type": "code",
   "execution_count": null,
   "metadata": {},
   "outputs": [],
   "source": [
    "df_punggol = df_punggol[(df_punggol['town'] == 'PUNGGOL') & (df_punggol['flat_type'] == '5 ROOM')]"
   ]
  },
  {
   "cell_type": "code",
   "execution_count": null,
   "metadata": {},
   "outputs": [],
   "source": [
    "df_punggol.drop(columns=['town', 'flat_type', 'floor_area_sqm', 'encoded_params'], inplace=True)"
   ]
  },
  {
   "cell_type": "code",
   "execution_count": null,
   "metadata": {},
   "outputs": [],
   "source": [
    "df_punggol.head()"
   ]
  },
  {
   "cell_type": "code",
   "execution_count": null,
   "metadata": {},
   "outputs": [],
   "source": [
    "df_ml = df_punggol.copy()"
   ]
  },
  {
   "cell_type": "code",
   "execution_count": null,
   "metadata": {},
   "outputs": [],
   "source": [
    "df_ml = df_ml.rename(columns={'sale_period': 'ds', 'resale_price': 'y'})\n",
    "df_ml['ds'] = pd.to_datetime(df_ml['ds'],format='%Y-%m-%d')\n",
    "df_ml['y'] = df_ml[['y']].apply(pd.to_numeric)"
   ]
  },
  {
   "cell_type": "code",
   "execution_count": null,
   "metadata": {},
   "outputs": [],
   "source": [
    "print(f\"Min Record Date: {df_ml['ds'].min()}\")\n",
    "print(f\"Max Record Date: {df_ml['ds'].max()}\")\n",
    "print(f\"Days between Min and Max Record Date: {df_ml['ds'].max() - df_ml['ds'].min()}\")"
   ]
  },
  {
   "cell_type": "code",
   "execution_count": null,
   "metadata": {},
   "outputs": [],
   "source": [
    "from datetime import datetime, timedelta, date\n",
    "\n",
    "forecast_start_date = date(2023,1,1).strftime('%Y-%m-%d')\n",
    "\n",
    "date_template = pd.DataFrame({'ds': pd.date_range(start=df_ml['ds'].min(), end=forecast_start_date, freq='D')})\n",
    "train_set = date_template.merge(df_ml, on='ds', how='left')\n",
    "train_set = train_set[train_set['ds'] < forecast_start_date]"
   ]
  },
  {
   "cell_type": "code",
   "execution_count": null,
   "metadata": {},
   "outputs": [],
   "source": [
    "train_set.info()"
   ]
  },
  {
   "cell_type": "code",
   "execution_count": null,
   "metadata": {},
   "outputs": [],
   "source": [
    "from prophet import Prophet\n",
    "\n",
    "model_prophet = Prophet()\n",
    "model_prophet.fit(train_set)\n",
    "\n",
    "prediction_days = 10\n",
    "\n",
    "future = model_prophet.make_future_dataframe(periods=prediction_days, freq = 'D')\n",
    "forecast = model_prophet.predict(future)"
   ]
  },
  {
   "cell_type": "code",
   "execution_count": null,
   "metadata": {},
   "outputs": [],
   "source": [
    "predicted_df = forecast[['ds','yhat']]"
   ]
  },
  {
   "cell_type": "code",
   "execution_count": null,
   "metadata": {},
   "outputs": [],
   "source": [
    "predicted_df.head()"
   ]
  },
  {
   "cell_type": "code",
   "execution_count": null,
   "metadata": {},
   "outputs": [],
   "source": [
    "df_ref = df_ml.copy()\n",
    "df_ref = df_ref.rename(columns={'y': 'actual_price'})\n",
    "\n",
    "predicted_df = predicted_df.merge(df_ref, on='ds')\n",
    "predicted_df.head()"
   ]
  },
  {
   "cell_type": "code",
   "execution_count": null,
   "metadata": {},
   "outputs": [],
   "source": [
    "fig, ax = plt.subplots(figsize=(16, 6))\n",
    "\n",
    "sns.lineplot(\n",
    "    x='ds', \n",
    "    y='yhat', \n",
    "    data=predicted_df, \n",
    "    ax=ax,\n",
    "    label='Predicted Price'\n",
    "    )\n",
    "\n",
    "sns.lineplot(\n",
    "    x='ds', \n",
    "    y='actual_price', \n",
    "    data=predicted_df, \n",
    "    ax=ax, \n",
    "    label='Actual Price'\n",
    "    )\n",
    "\n",
    "ax.set_title('Predicted vs Actual Price for Punggol 5 Room Flats')\n",
    "\n",
    "\n",
    "plt.show()"
   ]
  },
  {
   "cell_type": "code",
   "execution_count": null,
   "metadata": {},
   "outputs": [],
   "source": [
    "from prophet.diagnostics import performance_metrics\n",
    "from prophet.plot import plot_cross_validation_metric\n",
    "from prophet.diagnostics import cross_validation\n",
    "\n",
    "m = Prophet()\n",
    "m.fit(train_set)\n",
    "\n",
    "df_cv = cross_validation(m, initial='730 days', period='180 days', horizon='365 days')"
   ]
  },
  {
   "cell_type": "code",
   "execution_count": null,
   "metadata": {},
   "outputs": [],
   "source": [
    "df_r = performance_metrics(df_cv)\n",
    "print(df_r)"
   ]
  },
  {
   "cell_type": "code",
   "execution_count": null,
   "metadata": {},
   "outputs": [],
   "source": [
    "import itertools\n",
    "\n",
    "param_grid = {\n",
    "    'changepoint_prior_scale': [0.001, 0.01, 0.1, 0.5],\n",
    "    'seasonality_prior_scale': [0.01, 0.1, 1.0, 10.0],\n",
    "    'seasonality_mode': ['additive', 'multiplicative']\n",
    "}\n",
    "\n",
    "# Geenrate all combinations of parameters\n",
    "all_params = [dict(zip(param_grid.keys(), v)) for v in itertools.product(*param_grid.values())]\n",
    "rmses = []  # Store the RMSEs for each params here\n",
    "\n",
    "for params in all_params:\n",
    "    m = Prophet(**params).fit(train_set)  # Fit model with given params\n",
    "    df_cv = cross_validation(m, initial='730 days', period='180 days', horizon='365 days')\n",
    "    df_p = performance_metrics(df_cv, rolling_window=1)\n",
    "    rmses.append(df_p['rmse'].values[0])\n",
    "\n",
    "# Find the best parameters\n",
    "tuning_results = pd.DataFrame(all_params)\n",
    "tuning_results['rmse'] = rmses\n",
    "print(tuning_results)\n",
    "\n",
    "# Get the best parameters\n",
    "best_params = all_params[np.argmin(rmses)]\n",
    "print(best_params)"
   ]
  },
  {
   "cell_type": "code",
   "execution_count": null,
   "metadata": {},
   "outputs": [],
   "source": [
    "# Fit the model with best parameters\n",
    "\n",
    "m = Prophet(**best_params).fit(train_set)\n",
    "future = m.make_future_dataframe(periods=prediction_days, freq = 'D')\n",
    "forecast = m.predict(future)\n",
    "\n",
    "predicted_df = forecast[['ds','yhat']]\n",
    "predicted_df = predicted_df.merge(df_ref, on='ds')\n",
    "\n",
    "fig, ax = plt.subplots(figsize=(16, 6))\n",
    "\n",
    "sns.lineplot(\n",
    "    x='ds', \n",
    "    y='yhat', \n",
    "    data=predicted_df, \n",
    "    ax=ax,\n",
    "    label='Predicted Price'\n",
    "    )\n",
    "\n",
    "sns.lineplot(\n",
    "    x='ds', \n",
    "    y='actual_price', \n",
    "    data=predicted_df, \n",
    "    ax=ax, \n",
    "    label='Actual Price'\n",
    "    )\n",
    "\n",
    "ax.set_title('Predicted vs Actual Price for Punggol 5 Room Flats')\n",
    "ax.set_ylabel('Price')\n",
    "\n",
    "plt.show()"
   ]
  },
  {
   "cell_type": "code",
   "execution_count": null,
   "metadata": {},
   "outputs": [],
   "source": []
  }
 ],
 "metadata": {
  "kernelspec": {
   "display_name": "hdb_resale",
   "language": "python",
   "name": "python3"
  },
  "language_info": {
   "codemirror_mode": {
    "name": "ipython",
    "version": 3
   },
   "file_extension": ".py",
   "mimetype": "text/x-python",
   "name": "python",
   "nbconvert_exporter": "python",
   "pygments_lexer": "ipython3",
   "version": "3.11.5"
  },
  "orig_nbformat": 4
 },
 "nbformat": 4,
 "nbformat_minor": 2
}
